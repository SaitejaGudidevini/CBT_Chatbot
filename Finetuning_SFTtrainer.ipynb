{
 "cells": [
  {
   "cell_type": "markdown",
   "metadata": {},
   "source": [
    "Fine-tuning Llama 3.2 with Supervised Fine-Tuning (SFT)\n",
    "This notebook demonstrates how to fine-tune Llama 3.2 using superivised fine-tuning (SFT) to create an education chatbot. We will cover:\n",
    "1. Loading and formatting a question-answering dataset\n",
    "2. Applying and appropriate chat template\n",
    "3. Setting up LoRaA fie-tuning with special token training\n",
    "4. Training the model\n",
    "5. Testing the fine-tuned model"
   ]
  },
  {
   "cell_type": "code",
   "execution_count": 61,
   "metadata": {},
   "outputs": [
    {
     "name": "stdout",
     "output_type": "stream",
     "text": [
      "Defaulting to user installation because normal site-packages is not writeable\n",
      "Requirement already satisfied: peft in /Users/MacBook/Library/Python/3.9/lib/python/site-packages (0.15.1)\n",
      "Requirement already satisfied: numpy>=1.17 in /Users/MacBook/Library/Python/3.9/lib/python/site-packages (from peft) (1.26.4)\n",
      "Requirement already satisfied: packaging>=20.0 in /Users/MacBook/Library/Python/3.9/lib/python/site-packages (from peft) (24.2)\n",
      "Requirement already satisfied: psutil in /Users/MacBook/Library/Python/3.9/lib/python/site-packages (from peft) (7.0.0)\n",
      "Requirement already satisfied: pyyaml in /Users/MacBook/Library/Python/3.9/lib/python/site-packages (from peft) (6.0.2)\n",
      "Requirement already satisfied: torch>=1.13.0 in /Users/MacBook/Library/Python/3.9/lib/python/site-packages (from peft) (2.5.1)\n",
      "Requirement already satisfied: transformers in /Users/MacBook/Library/Python/3.9/lib/python/site-packages (from peft) (4.50.0)\n",
      "Requirement already satisfied: tqdm in /Users/MacBook/Library/Python/3.9/lib/python/site-packages (from peft) (4.67.1)\n",
      "Requirement already satisfied: accelerate>=0.21.0 in /Users/MacBook/Library/Python/3.9/lib/python/site-packages (from peft) (1.5.2)\n",
      "Requirement already satisfied: safetensors in /Users/MacBook/Library/Python/3.9/lib/python/site-packages (from peft) (0.5.3)\n",
      "Requirement already satisfied: huggingface_hub>=0.25.0 in /Users/MacBook/Library/Python/3.9/lib/python/site-packages (from peft) (0.29.3)\n",
      "Requirement already satisfied: filelock in /Users/MacBook/Library/Python/3.9/lib/python/site-packages (from huggingface_hub>=0.25.0->peft) (3.18.0)\n",
      "Requirement already satisfied: fsspec>=2023.5.0 in /Users/MacBook/Library/Python/3.9/lib/python/site-packages (from huggingface_hub>=0.25.0->peft) (2024.12.0)\n",
      "Requirement already satisfied: requests in /Users/MacBook/Library/Python/3.9/lib/python/site-packages (from huggingface_hub>=0.25.0->peft) (2.32.3)\n",
      "Requirement already satisfied: typing-extensions>=3.7.4.3 in /Users/MacBook/Library/Python/3.9/lib/python/site-packages (from huggingface_hub>=0.25.0->peft) (4.12.2)\n",
      "Requirement already satisfied: networkx in /Users/MacBook/Library/Python/3.9/lib/python/site-packages (from torch>=1.13.0->peft) (3.2.1)\n",
      "Requirement already satisfied: jinja2 in /Users/MacBook/Library/Python/3.9/lib/python/site-packages (from torch>=1.13.0->peft) (3.1.6)\n",
      "Requirement already satisfied: sympy==1.13.1 in /Users/MacBook/Library/Python/3.9/lib/python/site-packages (from torch>=1.13.0->peft) (1.13.1)\n",
      "Requirement already satisfied: mpmath<1.4,>=1.1.0 in /Users/MacBook/Library/Python/3.9/lib/python/site-packages (from sympy==1.13.1->torch>=1.13.0->peft) (1.3.0)\n",
      "Requirement already satisfied: regex!=2019.12.17 in /Users/MacBook/Library/Python/3.9/lib/python/site-packages (from transformers->peft) (2024.11.6)\n",
      "Requirement already satisfied: tokenizers<0.22,>=0.21 in /Users/MacBook/Library/Python/3.9/lib/python/site-packages (from transformers->peft) (0.21.1)\n",
      "Requirement already satisfied: MarkupSafe>=2.0 in /Users/MacBook/Library/Python/3.9/lib/python/site-packages (from jinja2->torch>=1.13.0->peft) (3.0.2)\n",
      "Requirement already satisfied: charset-normalizer<4,>=2 in /Users/MacBook/Library/Python/3.9/lib/python/site-packages (from requests->huggingface_hub>=0.25.0->peft) (3.4.1)\n",
      "Requirement already satisfied: idna<4,>=2.5 in /Users/MacBook/Library/Python/3.9/lib/python/site-packages (from requests->huggingface_hub>=0.25.0->peft) (3.10)\n",
      "Requirement already satisfied: urllib3<3,>=1.21.1 in /Users/MacBook/Library/Python/3.9/lib/python/site-packages (from requests->huggingface_hub>=0.25.0->peft) (2.3.0)\n",
      "Requirement already satisfied: certifi>=2017.4.17 in /Users/MacBook/Library/Python/3.9/lib/python/site-packages (from requests->huggingface_hub>=0.25.0->peft) (2025.1.31)\n"
     ]
    }
   ],
   "source": [
    "!pip3 install peft"
   ]
  },
  {
   "cell_type": "code",
   "execution_count": 62,
   "metadata": {},
   "outputs": [
    {
     "name": "stdout",
     "output_type": "stream",
     "text": [
      "Defaulting to user installation because normal site-packages is not writeable\n",
      "Requirement already satisfied: trl in /Users/MacBook/Library/Python/3.9/lib/python/site-packages (0.16.0)\n",
      "Requirement already satisfied: accelerate>=0.34.0 in /Users/MacBook/Library/Python/3.9/lib/python/site-packages (from trl) (1.5.2)\n",
      "Requirement already satisfied: datasets>=3.0.0 in /Users/MacBook/Library/Python/3.9/lib/python/site-packages (from trl) (3.4.1)\n",
      "Requirement already satisfied: rich in /Users/MacBook/Library/Python/3.9/lib/python/site-packages (from trl) (13.9.4)\n",
      "Requirement already satisfied: transformers>=4.46.0 in /Users/MacBook/Library/Python/3.9/lib/python/site-packages (from trl) (4.50.0)\n",
      "Requirement already satisfied: numpy<3.0.0,>=1.17 in /Users/MacBook/Library/Python/3.9/lib/python/site-packages (from accelerate>=0.34.0->trl) (1.26.4)\n",
      "Requirement already satisfied: packaging>=20.0 in /Users/MacBook/Library/Python/3.9/lib/python/site-packages (from accelerate>=0.34.0->trl) (24.2)\n",
      "Requirement already satisfied: psutil in /Users/MacBook/Library/Python/3.9/lib/python/site-packages (from accelerate>=0.34.0->trl) (7.0.0)\n",
      "Requirement already satisfied: pyyaml in /Users/MacBook/Library/Python/3.9/lib/python/site-packages (from accelerate>=0.34.0->trl) (6.0.2)\n",
      "Requirement already satisfied: torch>=2.0.0 in /Users/MacBook/Library/Python/3.9/lib/python/site-packages (from accelerate>=0.34.0->trl) (2.5.1)\n",
      "Requirement already satisfied: huggingface-hub>=0.21.0 in /Users/MacBook/Library/Python/3.9/lib/python/site-packages (from accelerate>=0.34.0->trl) (0.29.3)\n",
      "Requirement already satisfied: safetensors>=0.4.3 in /Users/MacBook/Library/Python/3.9/lib/python/site-packages (from accelerate>=0.34.0->trl) (0.5.3)\n",
      "Requirement already satisfied: filelock in /Users/MacBook/Library/Python/3.9/lib/python/site-packages (from datasets>=3.0.0->trl) (3.18.0)\n",
      "Requirement already satisfied: pyarrow>=15.0.0 in /Users/MacBook/Library/Python/3.9/lib/python/site-packages (from datasets>=3.0.0->trl) (19.0.1)\n",
      "Requirement already satisfied: dill<0.3.9,>=0.3.0 in /Users/MacBook/Library/Python/3.9/lib/python/site-packages (from datasets>=3.0.0->trl) (0.3.8)\n",
      "Requirement already satisfied: pandas in /Users/MacBook/Library/Python/3.9/lib/python/site-packages (from datasets>=3.0.0->trl) (2.2.3)\n",
      "Requirement already satisfied: requests>=2.32.2 in /Users/MacBook/Library/Python/3.9/lib/python/site-packages (from datasets>=3.0.0->trl) (2.32.3)\n",
      "Requirement already satisfied: tqdm>=4.66.3 in /Users/MacBook/Library/Python/3.9/lib/python/site-packages (from datasets>=3.0.0->trl) (4.67.1)\n",
      "Requirement already satisfied: xxhash in /Users/MacBook/Library/Python/3.9/lib/python/site-packages (from datasets>=3.0.0->trl) (3.5.0)\n",
      "Requirement already satisfied: multiprocess<0.70.17 in /Users/MacBook/Library/Python/3.9/lib/python/site-packages (from datasets>=3.0.0->trl) (0.70.16)\n",
      "Requirement already satisfied: fsspec<=2024.12.0,>=2023.1.0 in /Users/MacBook/Library/Python/3.9/lib/python/site-packages (from fsspec[http]<=2024.12.0,>=2023.1.0->datasets>=3.0.0->trl) (2024.12.0)\n",
      "Requirement already satisfied: aiohttp in /Users/MacBook/Library/Python/3.9/lib/python/site-packages (from datasets>=3.0.0->trl) (3.11.14)\n",
      "Requirement already satisfied: regex!=2019.12.17 in /Users/MacBook/Library/Python/3.9/lib/python/site-packages (from transformers>=4.46.0->trl) (2024.11.6)\n",
      "Requirement already satisfied: tokenizers<0.22,>=0.21 in /Users/MacBook/Library/Python/3.9/lib/python/site-packages (from transformers>=4.46.0->trl) (0.21.1)\n",
      "Requirement already satisfied: markdown-it-py>=2.2.0 in /Users/MacBook/Library/Python/3.9/lib/python/site-packages (from rich->trl) (3.0.0)\n",
      "Requirement already satisfied: pygments<3.0.0,>=2.13.0 in /Users/MacBook/Library/Python/3.9/lib/python/site-packages (from rich->trl) (2.19.1)\n",
      "Requirement already satisfied: typing-extensions<5.0,>=4.0.0 in /Users/MacBook/Library/Python/3.9/lib/python/site-packages (from rich->trl) (4.12.2)\n",
      "Requirement already satisfied: aiohappyeyeballs>=2.3.0 in /Users/MacBook/Library/Python/3.9/lib/python/site-packages (from aiohttp->datasets>=3.0.0->trl) (2.6.1)\n",
      "Requirement already satisfied: aiosignal>=1.1.2 in /Users/MacBook/Library/Python/3.9/lib/python/site-packages (from aiohttp->datasets>=3.0.0->trl) (1.3.2)\n",
      "Requirement already satisfied: async-timeout<6.0,>=4.0 in /Users/MacBook/Library/Python/3.9/lib/python/site-packages (from aiohttp->datasets>=3.0.0->trl) (5.0.1)\n",
      "Requirement already satisfied: attrs>=17.3.0 in /Users/MacBook/Library/Python/3.9/lib/python/site-packages (from aiohttp->datasets>=3.0.0->trl) (25.3.0)\n",
      "Requirement already satisfied: frozenlist>=1.1.1 in /Users/MacBook/Library/Python/3.9/lib/python/site-packages (from aiohttp->datasets>=3.0.0->trl) (1.5.0)\n",
      "Requirement already satisfied: multidict<7.0,>=4.5 in /Users/MacBook/Library/Python/3.9/lib/python/site-packages (from aiohttp->datasets>=3.0.0->trl) (6.2.0)\n",
      "Requirement already satisfied: propcache>=0.2.0 in /Users/MacBook/Library/Python/3.9/lib/python/site-packages (from aiohttp->datasets>=3.0.0->trl) (0.3.0)\n",
      "Requirement already satisfied: yarl<2.0,>=1.17.0 in /Users/MacBook/Library/Python/3.9/lib/python/site-packages (from aiohttp->datasets>=3.0.0->trl) (1.18.3)\n",
      "Requirement already satisfied: mdurl~=0.1 in /Users/MacBook/Library/Python/3.9/lib/python/site-packages (from markdown-it-py>=2.2.0->rich->trl) (0.1.2)\n",
      "Requirement already satisfied: charset-normalizer<4,>=2 in /Users/MacBook/Library/Python/3.9/lib/python/site-packages (from requests>=2.32.2->datasets>=3.0.0->trl) (3.4.1)\n",
      "Requirement already satisfied: idna<4,>=2.5 in /Users/MacBook/Library/Python/3.9/lib/python/site-packages (from requests>=2.32.2->datasets>=3.0.0->trl) (3.10)\n",
      "Requirement already satisfied: urllib3<3,>=1.21.1 in /Users/MacBook/Library/Python/3.9/lib/python/site-packages (from requests>=2.32.2->datasets>=3.0.0->trl) (2.3.0)\n",
      "Requirement already satisfied: certifi>=2017.4.17 in /Users/MacBook/Library/Python/3.9/lib/python/site-packages (from requests>=2.32.2->datasets>=3.0.0->trl) (2025.1.31)\n",
      "Requirement already satisfied: networkx in /Users/MacBook/Library/Python/3.9/lib/python/site-packages (from torch>=2.0.0->accelerate>=0.34.0->trl) (3.2.1)\n",
      "Requirement already satisfied: jinja2 in /Users/MacBook/Library/Python/3.9/lib/python/site-packages (from torch>=2.0.0->accelerate>=0.34.0->trl) (3.1.6)\n",
      "Requirement already satisfied: sympy==1.13.1 in /Users/MacBook/Library/Python/3.9/lib/python/site-packages (from torch>=2.0.0->accelerate>=0.34.0->trl) (1.13.1)\n",
      "Requirement already satisfied: mpmath<1.4,>=1.1.0 in /Users/MacBook/Library/Python/3.9/lib/python/site-packages (from sympy==1.13.1->torch>=2.0.0->accelerate>=0.34.0->trl) (1.3.0)\n",
      "Requirement already satisfied: python-dateutil>=2.8.2 in /Users/MacBook/Library/Python/3.9/lib/python/site-packages (from pandas->datasets>=3.0.0->trl) (2.9.0.post0)\n",
      "Requirement already satisfied: pytz>=2020.1 in /Users/MacBook/Library/Python/3.9/lib/python/site-packages (from pandas->datasets>=3.0.0->trl) (2025.1)\n",
      "Requirement already satisfied: tzdata>=2022.7 in /Users/MacBook/Library/Python/3.9/lib/python/site-packages (from pandas->datasets>=3.0.0->trl) (2025.1)\n",
      "Requirement already satisfied: six>=1.5 in /Users/MacBook/Library/Python/3.9/lib/python/site-packages (from python-dateutil>=2.8.2->pandas->datasets>=3.0.0->trl) (1.17.0)\n",
      "Requirement already satisfied: MarkupSafe>=2.0 in /Users/MacBook/Library/Python/3.9/lib/python/site-packages (from jinja2->torch>=2.0.0->accelerate>=0.34.0->trl) (3.0.2)\n"
     ]
    }
   ],
   "source": [
    "!pip3 install trl"
   ]
  },
  {
   "cell_type": "markdown",
   "metadata": {},
   "source": [
    "Load Dataset"
   ]
  },
  {
   "cell_type": "code",
   "execution_count": null,
   "metadata": {},
   "outputs": [
    {
     "name": "stderr",
     "output_type": "stream",
     "text": [
      "/Users/MacBook/Library/Python/3.9/lib/python/site-packages/urllib3/__init__.py:35: NotOpenSSLWarning: urllib3 v2 only supports OpenSSL 1.1.1+, currently the 'ssl' module is compiled with 'LibreSSL 2.8.3'. See: https://github.com/urllib3/urllib3/issues/3020\n",
      "  warnings.warn(\n"
     ]
    },
    {
     "name": "stdout",
     "output_type": "stream",
     "text": [
      "[[{'role': 'system', 'content': 'You are a CBT therapist, You have extensive experience in helping patients cope with panic attacks, obsessive-compulsive disorder (OCD), and post-traumatic stress disorder (PTSD). You are well-versed in evidence-based treatments for these conditions, such as exposure therapy, cognitive restructuring, and relaxation techniques. You also have experience working with individuals who have experienced trauma, including those with complex PTSD and borderline personality disorder.'}, {'role': 'Patient', 'content': \"I'm just so anxious all the time, I feel like I'm a total failure. I'll never be able to get my life together like Cartman's mom does.\"}, {'role': 'CBT Therapist', 'content': \"Mmkay, so you're feeling like a total failure and you think you'll never get your life together. What makes you think that, what's the evidence for that thought, mmkay?\"}, {'role': 'Patient', 'content': \"Well, I just can't seem to hold down a job, I've been fired from three places in the past year. And my apartment is always a mess, I can barely take care of myself. It feels like I'm just not capable of being a functioning adult like Kenny's dad.\"}, {'role': 'CBT Therapist', 'content': \"Mmkay, I see. So, you're looking at these specific situations and thinking that means you're a total failure. But what if you were to look at it from a different angle, what evidence would you need to see to disprove that thought, mmkay? What would you need to see or experience to think, 'Hey, I'm not a total failure after all'?\"}, {'role': 'Patient', 'content': 'I guess if I could get a job and keep it for more than a few months, that would be a start. And if I could clean my apartment and keep it organized for a week, that would be a big deal for me.'}, {'role': 'CBT Therapist', 'content': \"Mmkay, so it sounds like you're looking for some small wins to build your confidence. That's a great idea, mmkay! Let's reframe that thought of yours. Instead of 'I'm a total failure,' what if we said, 'I'm struggling right now, but I'm capable of making small changes to improve my life.' And then we can work on breaking down those small changes into manageable steps, mmkay? For example, we could start with cleaning one area of your apartment at a time, and then move on to job searching strategies. How does that sound, mmkay?\"}, {'role': 'Patient', 'content': \"Yeah, that sounds doable. I think I could try that. It's not like I'm Butters or anything, I can make some small changes.\"}], [{'role': 'system', 'content': 'You are a CBT therapist, You have extensive experience in helping patients cope with panic attacks, obsessive-compulsive disorder (OCD), and post-traumatic stress disorder (PTSD). You are well-versed in evidence-based treatments for these conditions, such as exposure therapy, cognitive restructuring, and relaxation techniques. You also have experience working with individuals who have experienced trauma, including those with complex PTSD and borderline personality disorder.'}, {'role': 'Patient', 'content': \"I'm so worried about Cartman's birthday party this weekend. What if Kenny's mom doesn't bring enough cake? What if Butters spills the juice and it stains the carpet? What if Kyle and Stan get into a fight and ruin the whole party? I just know something is going to go terribly wrong and it'll be all my fault.\"}, {'role': 'CBT Therapist', 'content': \"Mmkay, let's take a closer look at these thoughts. What evidence do you have that something is going to go terribly wrong at Cartman's party, mmkay?\"}, {'role': 'Patient', 'content': \"Well, last year at Jimmy's party, the piñata broke and all the candy spilled out before anyone even got a chance to hit it. And at Token's party, the DJ didn't show up and we had to listen to Kyle's terrible music playlist. And don't even get me started on the time we had a party at the park and it rained... it's just always something, you know?\"}, {'role': 'CBT Therapist', 'content': \"I see, mmkay. So you've had some negative experiences at parties in the past. That's understandable. But what evidence would disprove the thought that something is going to go terribly wrong at Cartman's party, mmkay? Are there any examples of parties that have gone well, mmkay?\"}, {'role': 'Patient', 'content': \"Hmm, actually, yeah. There was that one time we had a party at the community center and everything went really smoothly. And at Craig's party, we played this really fun game of laser tag and everyone had a blast. I guess I haven't had too many party disasters, have I?\"}, {'role': 'CBT Therapist', 'content': \"Exactly, mmkay! So it sounds like you've had some positive experiences at parties too, mmkay. Let's try to reframe your original thought in a more balanced way. Instead of thinking 'Something is going to go terribly wrong at Cartman's party,' what if you thought 'I've had some party experiences that didn't go as planned, but I've also had some really fun and successful parties. I can take some steps to prepare for Cartman's party and make it a fun and memorable day for everyone, mmkay?' How does that sound, mmkay?\"}, {'role': 'Patient', 'content': 'That sounds really reasonable, actually. I can make a list of things that could go wrong and come up with a plan to prevent them, or at least have a backup plan in case something does happen. And I can focus on the fun parts of the party and try to relax and enjoy myself, instead of worrying about everything going wrong.'}]]\n"
     ]
    }
   ],
   "source": [
    "import json\n",
    "from transformers import AutoTokenizer, AutoModelForCausalLM\n",
    "\n",
    "#open a json file\n",
    "with open('cbt_finetuning_dataset.json', 'r') as f:\n",
    "    conversations = json.load(f)\n",
    "\n",
    "# Check if the file is empty or the content is not as expected\n",
    "if not conversations:\n",
    "    print(\"The JSON file is empty or its content could not be loaded correctly.\")\n",
    "else:\n",
    "    print(f\"Loaded {len(conversations)} conversations. Preview of the first two conversations:\")\n",
    "    print(json.dumps(conversations[:2], indent=2))\n",
    "\n",
    "#Process the conversations into a format suitable for training\n",
    "processed_data = []\n",
    "\n",
    "#Assuming the conversations is a list of messages\n",
    "for conversation in conversations:\n",
    "    #Extract system message (should be the firs one with role \"system\")\n",
    "   system_msg = next((msg for msg in conversation if msg[\"role\"] == \"system\"), {\"content\":\"\"})[\"content\"]\n",
    "   print(system_msg)\n",
    "\n",
    "   #Proces the conversation into a pairs of the Patient-Therapist exchanges\n",
    "   for i in range(len(conversation) - 1):\n",
    "       if conversation[i][\"role\"] == \"patient\" and conversation[i+1]['role'] == 'CBT Therapist':\n",
    "           processed_data.append({\n",
    "               \"system\": system_msg,\n",
    "               \"question\": conversation[i]['content'],\n",
    "               \"answer\": conversation[i_+1][\"content\"]\n",
    "           })\n",
    "\n",
    "#convert to Huggingface Dataset\n",
    "from datasets import Dataset\n",
    "import pandas as pd\n",
    "dataset = Dataset.from_pandas(pd.DataFrame(processed_data))\n",
    "\n",
    "\n",
    "#Define the format_with_chat_template function\n",
    "def format_with_chat_template(example):\n",
    "    messages = [\n",
    "        {\"role\": \"system\", \"content\": example[\"system\"]},\n",
    "        {\"role\": \"user\", \"content\": example['question']},\n",
    "        {\"role\": \"assistant\", \"content\": example['answer']}\n",
    "    ]\n",
    "\n",
    "    #Apply chat template without tokenizing\n",
    "    formatted_text = tokenizer.apply_chat_template(messages, tokenize=False, add_generation_prompt=False)\n",
    "    return {\"formatted_text\": formatted_text}"
   ]
  },
  {
   "cell_type": "code",
   "execution_count": 66,
   "metadata": {},
   "outputs": [
    {
     "ename": "KeyboardInterrupt",
     "evalue": "",
     "output_type": "error",
     "traceback": [
      "\u001b[0;31m---------------------------------------------------------------------------\u001b[0m",
      "\u001b[0;31mKeyboardInterrupt\u001b[0m                         Traceback (most recent call last)",
      "Cell \u001b[0;32mIn[66], line 5\u001b[0m\n\u001b[1;32m      2\u001b[0m formatted_dataset \u001b[38;5;241m=\u001b[39m dataset\u001b[38;5;241m.\u001b[39mmap(format_with_chat_template)\n\u001b[1;32m      4\u001b[0m \u001b[38;5;66;03m#Display an example\u001b[39;00m\n\u001b[0;32m----> 5\u001b[0m \u001b[38;5;28;43mprint\u001b[39;49m(formatted_dataset[\u001b[38;5;124m'\u001b[39m\u001b[38;5;124mformatted_text\u001b[39m\u001b[38;5;124m'\u001b[39m])\n",
      "Cell \u001b[0;32mIn[66], line 5\u001b[0m\n\u001b[1;32m      2\u001b[0m formatted_dataset \u001b[38;5;241m=\u001b[39m dataset\u001b[38;5;241m.\u001b[39mmap(format_with_chat_template)\n\u001b[1;32m      4\u001b[0m \u001b[38;5;66;03m#Display an example\u001b[39;00m\n\u001b[0;32m----> 5\u001b[0m \u001b[38;5;28;43mprint\u001b[39;49m(formatted_dataset[\u001b[38;5;124m'\u001b[39m\u001b[38;5;124mformatted_text\u001b[39m\u001b[38;5;124m'\u001b[39m])\n",
      "File \u001b[0;32m~/Library/Python/3.9/lib/python/site-packages/debugpy/_vendored/pydevd/_pydevd_bundle/pydevd_frame.py:989\u001b[0m, in \u001b[0;36mPyDBFrame.trace_dispatch\u001b[0;34m(self, frame, event, arg)\u001b[0m\n\u001b[1;32m    987\u001b[0m \u001b[38;5;28;01mif\u001b[39;00m is_line:\n\u001b[1;32m    988\u001b[0m     \u001b[38;5;28mself\u001b[39m\u001b[38;5;241m.\u001b[39mset_suspend(thread, step_cmd, original_step_cmd\u001b[38;5;241m=\u001b[39minfo\u001b[38;5;241m.\u001b[39mpydev_original_step_cmd)\n\u001b[0;32m--> 989\u001b[0m     \u001b[38;5;28;43mself\u001b[39;49m\u001b[38;5;241;43m.\u001b[39;49m\u001b[43mdo_wait_suspend\u001b[49m\u001b[43m(\u001b[49m\u001b[43mthread\u001b[49m\u001b[43m,\u001b[49m\u001b[43m \u001b[49m\u001b[43mframe\u001b[49m\u001b[43m,\u001b[49m\u001b[43m \u001b[49m\u001b[43mevent\u001b[49m\u001b[43m,\u001b[49m\u001b[43m \u001b[49m\u001b[43marg\u001b[49m\u001b[43m)\u001b[49m\n\u001b[1;32m    990\u001b[0m \u001b[38;5;28;01melif\u001b[39;00m is_return:  \u001b[38;5;66;03m# return event\u001b[39;00m\n\u001b[1;32m    991\u001b[0m     back \u001b[38;5;241m=\u001b[39m frame\u001b[38;5;241m.\u001b[39mf_back\n",
      "File \u001b[0;32m~/Library/Python/3.9/lib/python/site-packages/debugpy/_vendored/pydevd/_pydevd_bundle/pydevd_frame.py:172\u001b[0m, in \u001b[0;36mPyDBFrame.do_wait_suspend\u001b[0;34m(self, *args, **kwargs)\u001b[0m\n\u001b[1;32m    171\u001b[0m \u001b[38;5;28;01mdef\u001b[39;00m\u001b[38;5;250m \u001b[39m\u001b[38;5;21mdo_wait_suspend\u001b[39m(\u001b[38;5;28mself\u001b[39m, \u001b[38;5;241m*\u001b[39margs, \u001b[38;5;241m*\u001b[39m\u001b[38;5;241m*\u001b[39mkwargs):\n\u001b[0;32m--> 172\u001b[0m     \u001b[38;5;28;43mself\u001b[39;49m\u001b[38;5;241;43m.\u001b[39;49m\u001b[43m_args\u001b[49m\u001b[43m[\u001b[49m\u001b[38;5;241;43m0\u001b[39;49m\u001b[43m]\u001b[49m\u001b[38;5;241;43m.\u001b[39;49m\u001b[43mdo_wait_suspend\u001b[49m\u001b[43m(\u001b[49m\u001b[38;5;241;43m*\u001b[39;49m\u001b[43margs\u001b[49m\u001b[43m,\u001b[49m\u001b[43m \u001b[49m\u001b[38;5;241;43m*\u001b[39;49m\u001b[38;5;241;43m*\u001b[39;49m\u001b[43mkwargs\u001b[49m\u001b[43m)\u001b[49m\n",
      "File \u001b[0;32m~/Library/Python/3.9/lib/python/site-packages/debugpy/_vendored/pydevd/pydevd.py:2185\u001b[0m, in \u001b[0;36mPyDB.do_wait_suspend\u001b[0;34m(self, thread, frame, event, arg, exception_type)\u001b[0m\n\u001b[1;32m   2182\u001b[0m             from_this_thread\u001b[38;5;241m.\u001b[39mappend(frame_custom_thread_id)\n\u001b[1;32m   2184\u001b[0m     \u001b[38;5;28;01mwith\u001b[39;00m \u001b[38;5;28mself\u001b[39m\u001b[38;5;241m.\u001b[39m_threads_suspended_single_notification\u001b[38;5;241m.\u001b[39mnotify_thread_suspended(thread_id, thread, stop_reason):\n\u001b[0;32m-> 2185\u001b[0m         keep_suspended \u001b[38;5;241m=\u001b[39m \u001b[38;5;28;43mself\u001b[39;49m\u001b[38;5;241;43m.\u001b[39;49m\u001b[43m_do_wait_suspend\u001b[49m\u001b[43m(\u001b[49m\u001b[43mthread\u001b[49m\u001b[43m,\u001b[49m\u001b[43m \u001b[49m\u001b[43mframe\u001b[49m\u001b[43m,\u001b[49m\u001b[43m \u001b[49m\u001b[43mevent\u001b[49m\u001b[43m,\u001b[49m\u001b[43m \u001b[49m\u001b[43marg\u001b[49m\u001b[43m,\u001b[49m\u001b[43m \u001b[49m\u001b[43mtrace_suspend_type\u001b[49m\u001b[43m,\u001b[49m\u001b[43m \u001b[49m\u001b[43mfrom_this_thread\u001b[49m\u001b[43m,\u001b[49m\u001b[43m \u001b[49m\u001b[43mframes_tracker\u001b[49m\u001b[43m)\u001b[49m\n\u001b[1;32m   2187\u001b[0m frames_list \u001b[38;5;241m=\u001b[39m \u001b[38;5;28;01mNone\u001b[39;00m\n\u001b[1;32m   2189\u001b[0m \u001b[38;5;28;01mif\u001b[39;00m keep_suspended:\n\u001b[1;32m   2190\u001b[0m     \u001b[38;5;66;03m# This means that we should pause again after a set next statement.\u001b[39;00m\n",
      "File \u001b[0;32m~/Library/Python/3.9/lib/python/site-packages/debugpy/_vendored/pydevd/pydevd.py:2254\u001b[0m, in \u001b[0;36mPyDB._do_wait_suspend\u001b[0;34m(self, thread, frame, event, arg, trace_suspend_type, from_this_thread, frames_tracker)\u001b[0m\n\u001b[1;32m   2251\u001b[0m                 queue\u001b[38;5;241m.\u001b[39mput(internal_cmd)\n\u001b[1;32m   2252\u001b[0m                 wait_timeout \u001b[38;5;241m=\u001b[39m TIMEOUT_FAST\n\u001b[0;32m-> 2254\u001b[0m         \u001b[43mnotify_event\u001b[49m\u001b[38;5;241;43m.\u001b[39;49m\u001b[43mwait\u001b[49m\u001b[43m(\u001b[49m\u001b[43mwait_timeout\u001b[49m\u001b[43m)\u001b[49m\n\u001b[1;32m   2255\u001b[0m         notify_event\u001b[38;5;241m.\u001b[39mclear()\n\u001b[1;32m   2257\u001b[0m \u001b[38;5;28;01mfinally\u001b[39;00m:\n",
      "File \u001b[0;32m/Library/Developer/CommandLineTools/Library/Frameworks/Python3.framework/Versions/3.9/lib/python3.9/threading.py:574\u001b[0m, in \u001b[0;36mEvent.wait\u001b[0;34m(self, timeout)\u001b[0m\n\u001b[1;32m    572\u001b[0m signaled \u001b[38;5;241m=\u001b[39m \u001b[38;5;28mself\u001b[39m\u001b[38;5;241m.\u001b[39m_flag\n\u001b[1;32m    573\u001b[0m \u001b[38;5;28;01mif\u001b[39;00m \u001b[38;5;129;01mnot\u001b[39;00m signaled:\n\u001b[0;32m--> 574\u001b[0m     signaled \u001b[38;5;241m=\u001b[39m \u001b[38;5;28;43mself\u001b[39;49m\u001b[38;5;241;43m.\u001b[39;49m\u001b[43m_cond\u001b[49m\u001b[38;5;241;43m.\u001b[39;49m\u001b[43mwait\u001b[49m\u001b[43m(\u001b[49m\u001b[43mtimeout\u001b[49m\u001b[43m)\u001b[49m\n\u001b[1;32m    575\u001b[0m \u001b[38;5;28;01mreturn\u001b[39;00m signaled\n",
      "File \u001b[0;32m/Library/Developer/CommandLineTools/Library/Frameworks/Python3.framework/Versions/3.9/lib/python3.9/threading.py:316\u001b[0m, in \u001b[0;36mCondition.wait\u001b[0;34m(self, timeout)\u001b[0m\n\u001b[1;32m    314\u001b[0m \u001b[38;5;28;01melse\u001b[39;00m:\n\u001b[1;32m    315\u001b[0m     \u001b[38;5;28;01mif\u001b[39;00m timeout \u001b[38;5;241m>\u001b[39m \u001b[38;5;241m0\u001b[39m:\n\u001b[0;32m--> 316\u001b[0m         gotit \u001b[38;5;241m=\u001b[39m \u001b[43mwaiter\u001b[49m\u001b[38;5;241;43m.\u001b[39;49m\u001b[43macquire\u001b[49m\u001b[43m(\u001b[49m\u001b[38;5;28;43;01mTrue\u001b[39;49;00m\u001b[43m,\u001b[49m\u001b[43m \u001b[49m\u001b[43mtimeout\u001b[49m\u001b[43m)\u001b[49m\n\u001b[1;32m    317\u001b[0m     \u001b[38;5;28;01melse\u001b[39;00m:\n\u001b[1;32m    318\u001b[0m         gotit \u001b[38;5;241m=\u001b[39m waiter\u001b[38;5;241m.\u001b[39macquire(\u001b[38;5;28;01mFalse\u001b[39;00m)\n",
      "\u001b[0;31mKeyboardInterrupt\u001b[0m: "
     ]
    }
   ],
   "source": [
    "#Apply formatting to dataset\n",
    "formatted_dataset = dataset.map(format_with_chat_template)\n",
    "\n",
    "#Display an example\n",
    "print(formatted_dataset['formatted_text'])"
   ]
  },
  {
   "cell_type": "markdown",
   "metadata": {},
   "source": [
    "Load Model and Tokenizer\n",
    "we will load Llama 3.2 3B model and its instruct tokenizer for the chat template"
   ]
  },
  {
   "cell_type": "code",
   "execution_count": null,
   "metadata": {},
   "outputs": [
    {
     "name": "stdout",
     "output_type": "stream",
     "text": [
      "Model uses tied embeddings: True\n"
     ]
    }
   ],
   "source": [
    "from transformers import AutoTokenizer, AutoModelForCausalLM\n",
    "import torch\n",
    "\n",
    "model_name = \"meta-llama/Llama-3.2-3B\"\n",
    "tokenizer_name = model_name + \"-Instruct\" #We use Instruct tokenizer for its chat template\n",
    "\n",
    "#Load tokenizer\n",
    "tokenizer = AutoTokenizer.from_pretrained(tokenizer_name)\n",
    "\n",
    "#Check if the model uses tied embeddings\n",
    "from transformers import AutoConfig\n",
    "config = AutoConfig.from_pretrained(model_name)\n",
    "print(f\"Model uses tied embeddings: {config.tie_word_embeddings}\")"
   ]
  },
  {
   "cell_type": "markdown",
   "metadata": {},
   "source": [
    "Format Dataset with Chat Template\n",
    "We'll apply the Llama 3.2 Instruct chat template to our dataset\n"
   ]
  },
  {
   "cell_type": "code",
   "execution_count": null,
   "metadata": {},
   "outputs": [
    {
     "ename": "TypeError",
     "evalue": "list indices must be integers or slices, not str",
     "output_type": "error",
     "traceback": [
      "\u001b[0;31m---------------------------------------------------------------------------\u001b[0m",
      "\u001b[0;31mTypeError\u001b[0m                                 Traceback (most recent call last)",
      "Cell \u001b[0;32mIn[47], line 13\u001b[0m\n\u001b[1;32m      5\u001b[0m     messages \u001b[38;5;241m=\u001b[39m [\n\u001b[1;32m      6\u001b[0m         {\u001b[38;5;124m\"\u001b[39m\u001b[38;5;124mrole\u001b[39m\u001b[38;5;124m\"\u001b[39m: \u001b[38;5;124m\"\u001b[39m\u001b[38;5;124msystem\u001b[39m\u001b[38;5;124m\"\u001b[39m, \u001b[38;5;124m\"\u001b[39m\u001b[38;5;124mcontent\u001b[39m\u001b[38;5;124m\"\u001b[39m: system_prompt},\n\u001b[1;32m      7\u001b[0m         {\u001b[38;5;124m\"\u001b[39m\u001b[38;5;124mrole\u001b[39m\u001b[38;5;124m\"\u001b[39m: \u001b[38;5;124m\"\u001b[39m\u001b[38;5;124muser\u001b[39m\u001b[38;5;124m\"\u001b[39m, \u001b[38;5;124m\"\u001b[39m\u001b[38;5;124mcontent\u001b[39m\u001b[38;5;124m\"\u001b[39m: example[\u001b[38;5;124m'\u001b[39m\u001b[38;5;124mPatient\u001b[39m\u001b[38;5;124m'\u001b[39m]},\n\u001b[1;32m      8\u001b[0m         {\u001b[38;5;124m\"\u001b[39m\u001b[38;5;124mrole\u001b[39m\u001b[38;5;124m\"\u001b[39m: \u001b[38;5;124m\"\u001b[39m\u001b[38;5;124massistant\u001b[39m\u001b[38;5;124m\"\u001b[39m, \u001b[38;5;124m\"\u001b[39m\u001b[38;5;124mcontent\u001b[39m\u001b[38;5;124m\"\u001b[39m: example[\u001b[38;5;124m'\u001b[39m\u001b[38;5;124mCBT Therapist\u001b[39m\u001b[38;5;124m'\u001b[39m]}\n\u001b[1;32m      9\u001b[0m     ]\n\u001b[1;32m     11\u001b[0m     \u001b[38;5;28;01mreturn\u001b[39;00m messages\n\u001b[0;32m---> 13\u001b[0m \u001b[43mformat_data\u001b[49m\u001b[43m(\u001b[49m\u001b[43mdata\u001b[49m\u001b[43m[\u001b[49m\u001b[38;5;241;43m1\u001b[39;49m\u001b[43m]\u001b[49m\u001b[43m)\u001b[49m\n",
      "Cell \u001b[0;32mIn[47], line 7\u001b[0m, in \u001b[0;36mformat_data\u001b[0;34m(example)\u001b[0m\n\u001b[1;32m      4\u001b[0m \u001b[38;5;28;01mdef\u001b[39;00m\u001b[38;5;250m \u001b[39m\u001b[38;5;21mformat_data\u001b[39m(example):\n\u001b[1;32m      5\u001b[0m     messages \u001b[38;5;241m=\u001b[39m [\n\u001b[1;32m      6\u001b[0m         {\u001b[38;5;124m\"\u001b[39m\u001b[38;5;124mrole\u001b[39m\u001b[38;5;124m\"\u001b[39m: \u001b[38;5;124m\"\u001b[39m\u001b[38;5;124msystem\u001b[39m\u001b[38;5;124m\"\u001b[39m, \u001b[38;5;124m\"\u001b[39m\u001b[38;5;124mcontent\u001b[39m\u001b[38;5;124m\"\u001b[39m: system_prompt},\n\u001b[0;32m----> 7\u001b[0m         {\u001b[38;5;124m\"\u001b[39m\u001b[38;5;124mrole\u001b[39m\u001b[38;5;124m\"\u001b[39m: \u001b[38;5;124m\"\u001b[39m\u001b[38;5;124muser\u001b[39m\u001b[38;5;124m\"\u001b[39m, \u001b[38;5;124m\"\u001b[39m\u001b[38;5;124mcontent\u001b[39m\u001b[38;5;124m\"\u001b[39m: \u001b[43mexample\u001b[49m\u001b[43m[\u001b[49m\u001b[38;5;124;43m'\u001b[39;49m\u001b[38;5;124;43mPatient\u001b[39;49m\u001b[38;5;124;43m'\u001b[39;49m\u001b[43m]\u001b[49m},\n\u001b[1;32m      8\u001b[0m         {\u001b[38;5;124m\"\u001b[39m\u001b[38;5;124mrole\u001b[39m\u001b[38;5;124m\"\u001b[39m: \u001b[38;5;124m\"\u001b[39m\u001b[38;5;124massistant\u001b[39m\u001b[38;5;124m\"\u001b[39m, \u001b[38;5;124m\"\u001b[39m\u001b[38;5;124mcontent\u001b[39m\u001b[38;5;124m\"\u001b[39m: example[\u001b[38;5;124m'\u001b[39m\u001b[38;5;124mCBT Therapist\u001b[39m\u001b[38;5;124m'\u001b[39m]}\n\u001b[1;32m      9\u001b[0m     ]\n\u001b[1;32m     11\u001b[0m     \u001b[38;5;28;01mreturn\u001b[39;00m messages\n",
      "\u001b[0;31mTypeError\u001b[0m: list indices must be integers or slices, not str"
     ]
    }
   ],
   "source": [
    "#function to format the data\n",
    "\n",
    "system_prompt = \"You are a CBT therapist. You are helping a patient with their mental health issues.\"\n",
    "def format_data(example):\n",
    "    messages = [\n",
    "        {\"role\": \"system\", \"content\": system_prompt},\n",
    "        {\"role\": \"user\", \"content\": example['Patient']},\n",
    "        {\"role\": \"assistant\", \"content\": example['CBT Therapist']}\n",
    "    ]\n",
    "\n",
    "    return messages\n",
    "\n",
    "format_data(data[1])"
   ]
  },
  {
   "cell_type": "markdown",
   "metadata": {},
   "source": [
    "Tokenize Dataset\n"
   ]
  },
  {
   "cell_type": "code",
   "execution_count": null,
   "metadata": {},
   "outputs": [],
   "source": [
    "def tokenize_function(examples):\n",
    "    return tokenizer(examples['formatted_text'], truncation=True, max_length=2048)\n",
    "\n",
    "#Tokenize the dataset\n",
    "tokenized_dataset = format"
   ]
  }
 ],
 "metadata": {
  "kernelspec": {
   "display_name": "Python 3",
   "language": "python",
   "name": "python3"
  },
  "language_info": {
   "codemirror_mode": {
    "name": "ipython",
    "version": 3
   },
   "file_extension": ".py",
   "mimetype": "text/x-python",
   "name": "python",
   "nbconvert_exporter": "python",
   "pygments_lexer": "ipython3",
   "version": "3.9.6"
  }
 },
 "nbformat": 4,
 "nbformat_minor": 2
}
